{
 "cells": [
  {
   "cell_type": "markdown",
   "id": "b173aef7-9585-439c-bd84-ec6f359ee090",
   "metadata": {},
   "source": [
    "![tower bridge](london.jpg)\n",
    "\n",
    "London, or as the Romans called it \"Londonium\"! Home to [over 8.5 million residents](https://www.ons.gov.uk/peoplepopulationandcommunity/populationandmigration/populationestimates/bulletins/populationandhouseholdestimatesenglandandwales/census2021unroundeddata#population-and-household-estimates-england-and-wales-data) who speak over [300 languages](https://web.archive.org/web/20080924084621/http://www.cilt.org.uk/faqs/langspoken.htm). While the City of London is a little over one square mile (hence its nickname \"The Square Mile\"), Greater London has grown to encompass 32 boroughs spanning a total area of 606 square miles! \n",
    "\n",
    "![underground train leaving a platform](tube.jpg)\n",
    "\n",
    "Given the city's roads were originally designed for horse and cart, this area and population growth has required the development of an efficient public transport system! Since the year 2000, this has been through the local government body called **Transport for London**, or *TfL*, which is managed by the London Mayor's office. Their remit covers the London Underground, Overground, Docklands Light Railway (DLR), buses, trams, river services (clipper and [Emirates Airline cable car](https://en.wikipedia.org/wiki/London_cable_car)), roads, and even taxis.\n",
    "\n",
    "The Mayor of London's office make their data available to the public [here](https://data.london.gov.uk/dataset). In this project, you will work with a slightly modified version of a dataset containing information about public transport journey volume by transport type. \n",
    "\n",
    "The data has been loaded into a **Google BigQuery** database called `TFL` with a single table called `JOURNEYS`, including the following data:\n",
    "\n",
    "## TFL.JOURNEYS\n",
    "\n",
    "| Column | Definition | Data type |\n",
    "|--------|------------|-----------|\n",
    "| `MONTH`| Month in number format, e.g., `1` equals January | `INTEGER` |\n",
    "| `YEAR` | Year | `INTEGER` |\n",
    "| `DAYS` | Number of days in the given month | `INTEGER` |\n",
    "| `REPORT_DATE` | Date that the data was reported | `DATE` |\n",
    "| `JOURNEY_TYPE` | Method of transport used | `VARCHAR` |\n",
    "| `JOURNEYS_MILLIONS` | Millions of journeys, measured in decimals | `FLOAT` |\n",
    "\n",
    "Note that the table name is **upper case*** by default.\n",
    "\n",
    "You will execute SQL queries to answer three questions, as listed in the instructions."
   ]
  },
  {
   "cell_type": "code",
   "execution_count": null,
   "id": "8d9fea80-b22f-4b79-aa93-1fb581d04b12",
   "metadata": {
    "customType": "sql",
    "dataFrameVariableName": "most_popular_transport_types",
    "executionCancelledAt": null,
    "executionTime": 3987,
    "lastExecutedAt": 1687267120650,
    "lastScheduledRunId": null,
    "lastSuccessfullyExecutedCode": "-- most_popular_transport_types\nSELECT *\nFROM TFL.JOURNEYS\nLIMIT 5;",
    "sqlCellMode": "dataFrame",
    "sqlSource": {
     "integrationId": "fcf37a0e-f8bd-4c85-95a5-201d3eebea48",
     "type": "integration"
    },
    "vscode": {
     "languageId": "sql"
    }
   },
   "outputs": [],
   "source": [
    "-- most_popular_transport_types\n",
    "-- Calculating the total number of journeys by transport type\n",
    "SELECT JOURNEY_TYPE, SUM(JOURNEYS_MILLIONS) AS TOTAL_JOURNEYS_MILLIONS\n",
    "FROM TFL.JOURNEYS\n",
    "GROUP BY JOURNEY_TYPE\n",
    "ORDER BY TOTAL_JOURNEYS_MILLIONS DESC;"
   ]
  },
  {
   "cell_type": "code",
   "execution_count": null,
   "id": "7e021cbb-35c0-4b65-8b63-db04bae2861c",
   "metadata": {
    "customType": "sql",
    "dataFrameVariableName": "emirates_airline_popularity",
    "executionCancelledAt": null,
    "executionTime": 2896,
    "lastExecutedAt": 1686216085588,
    "lastScheduledRunId": null,
    "lastSuccessfullyExecutedCode": "-- emirates_airline_popularity\nSELECT month, \n\tyear, \n\tROUND(journeys_millions,2) AS rounded_journeys_millions\nFROM tfl.journeys\nWHERE journey_type = 'Emirates Airline' AND rounded_journeys_millions IS NOT NULL\nORDER BY rounded_journeys_millions DESC\nLIMIT 5;",
    "sqlCellMode": "dataFrame",
    "sqlSource": {
     "integrationId": "fcf37a0e-f8bd-4c85-95a5-201d3eebea48",
     "type": "integration"
    },
    "vscode": {
     "languageId": "sql"
    }
   },
   "outputs": [],
   "source": [
    "-- emirates_airline_popularity\n",
    "-- Getting the months and years with the largest number of journeys\n",
    "SELECT MONTH, YEAR, ROUND(JOURNEYS_MILLIONS, 2) AS ROUNDED_JOURNEYS_MILLIONS\n",
    "FROM TFL.JOURNEYS\n",
    "WHERE JOURNEY_TYPE = 'Emirates Airline'\n",
    "AND ROUNDED_JOURNEYS_MILLIONS IS NOT NULL\n",
    "ORDER BY ROUNDED_JOURNEYS_MILLIONS DESC\n",
    "LIMIT 5;"
   ]
  },
  {
   "cell_type": "code",
   "execution_count": null,
   "id": "ed4c5893-aa2e-469d-99e9-8eb2fc5ccc43",
   "metadata": {
    "customType": "sql",
    "dataFrameVariableName": "least_popular_years_tube",
    "executionCancelledAt": null,
    "executionTime": 2048,
    "lastExecutedAt": 1686215551639,
    "lastScheduledRunId": null,
    "lastSuccessfullyExecutedCode": "-- least_popular_years_tube\nSELECT year,\n\tjourney_type,\n\tSUM(journeys_millions) as total_journeys_millions\nFROM tfl.journeys\nWHERE journey_type LIKE '%Underground%'\nGROUP BY year, journey_type\nORDER BY total_journeys_millions\nLIMIT 5;",
    "sqlCellMode": "dataFrame",
    "sqlSource": {
     "integrationId": "fcf37a0e-f8bd-4c85-95a5-201d3eebea48",
     "type": "integration"
    },
    "vscode": {
     "languageId": "sql"
    }
   },
   "outputs": [],
   "source": [
    "-- least_popular_years_tube\n",
    "-- Returning the least popular years for tube travel\n",
    "SELECT YEAR, JOURNEY_TYPE, SUM(JOURNEYS_MILLIONS) AS TOTAL_JOURNEYS_MILLIONS\n",
    "FROM TFL.JOURNEYS\n",
    "WHERE JOURNEY_TYPE LIKE '%Underground%'\n",
    "GROUP BY YEAR, JOURNEY_TYPE\n",
    "ORDER BY TOTAL_JOURNEYS_MILLIONS\n",
    "LIMIT 5;"
   ]
  }
 ],
 "metadata": {
  "colab": {
   "name": "Welcome to DataCamp Workspaces.ipynb",
   "provenance": []
  },
  "kernelspec": {
   "display_name": "Python 3 (ipykernel)",
   "language": "python",
   "name": "python3"
  },
  "language_info": {
   "codemirror_mode": {
    "name": "ipython",
    "version": 3
   },
   "file_extension": ".py",
   "mimetype": "text/x-python",
   "name": "python",
   "nbconvert_exporter": "python",
   "pygments_lexer": "ipython3",
   "version": "3.8.10"
  }
 },
 "nbformat": 4,
 "nbformat_minor": 5
}
